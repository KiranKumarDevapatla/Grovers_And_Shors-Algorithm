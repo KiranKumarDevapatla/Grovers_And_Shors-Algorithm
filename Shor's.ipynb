{
  "nbformat": 4,
  "nbformat_minor": 0,
  "metadata": {
    "colab": {
      "provenance": []
    },
    "kernelspec": {
      "name": "python3",
      "display_name": "Python 3"
    },
    "language_info": {
      "name": "python"
    }
  },
  "cells": [
    {
      "cell_type": "code",
      "execution_count": null,
      "metadata": {
        "id": "u-MVibszvNpM"
      },
      "outputs": [],
      "source": []
    },
    {
      "cell_type": "code",
      "source": [
        "pip install qiskit"
      ],
      "metadata": {
        "colab": {
          "base_uri": "https://localhost:8080/"
        },
        "id": "zN0frrC5vhJn",
        "outputId": "2f18f12d-c9df-40f1-ada2-3ffa2813abf8"
      },
      "execution_count": null,
      "outputs": [
        {
          "output_type": "stream",
          "name": "stdout",
          "text": [
            "Looking in indexes: https://pypi.org/simple, https://us-python.pkg.dev/colab-wheels/public/simple/\n",
            "Collecting qiskit\n",
            "  Downloading qiskit-0.39.3.tar.gz (13 kB)\n",
            "Collecting qiskit-terra==0.22.3\n",
            "  Downloading qiskit_terra-0.22.3-cp38-cp38-manylinux_2_17_x86_64.manylinux2014_x86_64.whl (4.8 MB)\n",
            "\u001b[K     |████████████████████████████████| 4.8 MB 34.6 MB/s \n",
            "\u001b[?25hCollecting qiskit-aer==0.11.1\n",
            "  Downloading qiskit_aer-0.11.1-cp38-cp38-manylinux_2_17_x86_64.manylinux2014_x86_64.whl (19.2 MB)\n",
            "\u001b[K     |████████████████████████████████| 19.2 MB 144 kB/s \n",
            "\u001b[?25hCollecting qiskit-ibmq-provider==0.19.2\n",
            "  Downloading qiskit_ibmq_provider-0.19.2-py3-none-any.whl (240 kB)\n",
            "\u001b[K     |████████████████████████████████| 240 kB 67.3 MB/s \n",
            "\u001b[?25hRequirement already satisfied: scipy>=1.0 in /usr/local/lib/python3.8/dist-packages (from qiskit-aer==0.11.1->qiskit) (1.7.3)\n",
            "Requirement already satisfied: numpy>=1.16.3 in /usr/local/lib/python3.8/dist-packages (from qiskit-aer==0.11.1->qiskit) (1.21.6)\n",
            "Collecting websocket-client>=1.0.1\n",
            "  Downloading websocket_client-1.4.2-py3-none-any.whl (55 kB)\n",
            "\u001b[K     |████████████████████████████████| 55 kB 1.8 MB/s \n",
            "\u001b[?25hRequirement already satisfied: python-dateutil>=2.8.0 in /usr/local/lib/python3.8/dist-packages (from qiskit-ibmq-provider==0.19.2->qiskit) (2.8.2)\n",
            "Collecting websockets>=10.0\n",
            "  Downloading websockets-10.4-cp38-cp38-manylinux_2_5_x86_64.manylinux1_x86_64.manylinux_2_17_x86_64.manylinux2014_x86_64.whl (106 kB)\n",
            "\u001b[K     |████████████████████████████████| 106 kB 59.0 MB/s \n",
            "\u001b[?25hCollecting requests-ntlm>=1.1.0\n",
            "  Downloading requests_ntlm-1.1.0-py2.py3-none-any.whl (5.7 kB)\n",
            "Requirement already satisfied: urllib3>=1.21.1 in /usr/local/lib/python3.8/dist-packages (from qiskit-ibmq-provider==0.19.2->qiskit) (1.24.3)\n",
            "Requirement already satisfied: requests>=2.19 in /usr/local/lib/python3.8/dist-packages (from qiskit-ibmq-provider==0.19.2->qiskit) (2.23.0)\n",
            "Requirement already satisfied: sympy>=1.3 in /usr/local/lib/python3.8/dist-packages (from qiskit-terra==0.22.3->qiskit) (1.7.1)\n",
            "Collecting retworkx>=0.11.0\n",
            "  Downloading retworkx-0.12.1-py3-none-any.whl (10 kB)\n",
            "Collecting ply>=3.10\n",
            "  Downloading ply-3.11-py2.py3-none-any.whl (49 kB)\n",
            "\u001b[K     |████████████████████████████████| 49 kB 4.5 MB/s \n",
            "\u001b[?25hCollecting tweedledum<2.0,>=1.1\n",
            "  Downloading tweedledum-1.1.1-cp38-cp38-manylinux_2_12_x86_64.manylinux2010_x86_64.whl (929 kB)\n",
            "\u001b[K     |████████████████████████████████| 929 kB 30.6 MB/s \n",
            "\u001b[?25hCollecting stevedore>=3.0.0\n",
            "  Downloading stevedore-4.1.1-py3-none-any.whl (50 kB)\n",
            "\u001b[K     |████████████████████████████████| 50 kB 2.3 MB/s \n",
            "\u001b[?25hCollecting symengine>=0.9\n",
            "  Downloading symengine-0.9.2-cp38-cp38-manylinux2010_x86_64.whl (37.5 MB)\n",
            "\u001b[K     |████████████████████████████████| 37.5 MB 1.3 MB/s \n",
            "\u001b[?25hRequirement already satisfied: dill>=0.3 in /usr/local/lib/python3.8/dist-packages (from qiskit-terra==0.22.3->qiskit) (0.3.6)\n",
            "Requirement already satisfied: psutil>=5 in /usr/local/lib/python3.8/dist-packages (from qiskit-terra==0.22.3->qiskit) (5.4.8)\n",
            "Requirement already satisfied: six>=1.5 in /usr/local/lib/python3.8/dist-packages (from python-dateutil>=2.8.0->qiskit-ibmq-provider==0.19.2->qiskit) (1.15.0)\n",
            "Requirement already satisfied: idna<3,>=2.5 in /usr/local/lib/python3.8/dist-packages (from requests>=2.19->qiskit-ibmq-provider==0.19.2->qiskit) (2.10)\n",
            "Requirement already satisfied: chardet<4,>=3.0.2 in /usr/local/lib/python3.8/dist-packages (from requests>=2.19->qiskit-ibmq-provider==0.19.2->qiskit) (3.0.4)\n",
            "Requirement already satisfied: certifi>=2017.4.17 in /usr/local/lib/python3.8/dist-packages (from requests>=2.19->qiskit-ibmq-provider==0.19.2->qiskit) (2022.9.24)\n",
            "Collecting cryptography>=1.3\n",
            "  Downloading cryptography-38.0.4-cp36-abi3-manylinux_2_24_x86_64.whl (4.0 MB)\n",
            "\u001b[K     |████████████████████████████████| 4.0 MB 10.5 MB/s \n",
            "\u001b[?25hCollecting ntlm-auth>=1.0.2\n",
            "  Downloading ntlm_auth-1.5.0-py2.py3-none-any.whl (29 kB)\n",
            "Requirement already satisfied: cffi>=1.12 in /usr/local/lib/python3.8/dist-packages (from cryptography>=1.3->requests-ntlm>=1.1.0->qiskit-ibmq-provider==0.19.2->qiskit) (1.15.1)\n",
            "Requirement already satisfied: pycparser in /usr/local/lib/python3.8/dist-packages (from cffi>=1.12->cryptography>=1.3->requests-ntlm>=1.1.0->qiskit-ibmq-provider==0.19.2->qiskit) (2.21)\n",
            "Collecting rustworkx==0.12.1\n",
            "  Downloading rustworkx-0.12.1-cp38-cp38-manylinux_2_17_x86_64.manylinux2014_x86_64.whl (1.9 MB)\n",
            "\u001b[K     |████████████████████████████████| 1.9 MB 49.4 MB/s \n",
            "\u001b[?25hCollecting pbr!=2.1.0,>=2.0.0\n",
            "  Downloading pbr-5.11.0-py2.py3-none-any.whl (112 kB)\n",
            "\u001b[K     |████████████████████████████████| 112 kB 74.6 MB/s \n",
            "\u001b[?25hRequirement already satisfied: mpmath>=0.19 in /usr/local/lib/python3.8/dist-packages (from sympy>=1.3->qiskit-terra==0.22.3->qiskit) (1.2.1)\n",
            "Building wheels for collected packages: qiskit\n",
            "  Building wheel for qiskit (setup.py) ... \u001b[?25l\u001b[?25hdone\n",
            "  Created wheel for qiskit: filename=qiskit-0.39.3-py3-none-any.whl size=12262 sha256=e06b146a4fbda003857d3b9842d8dd8de30674f6116287c4fc880f02d0a027ab\n",
            "  Stored in directory: /root/.cache/pip/wheels/46/24/40/7b6f21f2280d902749c203be80d69c7d1a95ece4602f37c246\n",
            "Successfully built qiskit\n",
            "Installing collected packages: rustworkx, pbr, tweedledum, symengine, stevedore, retworkx, ply, ntlm-auth, cryptography, websockets, websocket-client, requests-ntlm, qiskit-terra, qiskit-ibmq-provider, qiskit-aer, qiskit\n",
            "Successfully installed cryptography-38.0.4 ntlm-auth-1.5.0 pbr-5.11.0 ply-3.11 qiskit-0.39.3 qiskit-aer-0.11.1 qiskit-ibmq-provider-0.19.2 qiskit-terra-0.22.3 requests-ntlm-1.1.0 retworkx-0.12.1 rustworkx-0.12.1 stevedore-4.1.1 symengine-0.9.2 tweedledum-1.1.1 websocket-client-1.4.2 websockets-10.4\n"
          ]
        }
      ]
    },
    {
      "cell_type": "code",
      "source": [
        "import matplotlib.pyplot as plt\n",
        "import numpy as np\n",
        "from qiskit import QuantumCircuit, Aer, transpile, assemble\n",
        "from qiskit.visualization import plot_histogram\n",
        "from math import gcd\n",
        "from numpy.random import randint\n",
        "import pandas as pd\n",
        "from fractions import Fraction\n",
        "print(\"Imports Successful\")"
      ],
      "metadata": {
        "colab": {
          "base_uri": "https://localhost:8080/"
        },
        "id": "gx82_bX6vnYq",
        "outputId": "ef6aa152-b2ff-4f39-af75-cef009faa4c7"
      },
      "execution_count": null,
      "outputs": [
        {
          "output_type": "stream",
          "name": "stdout",
          "text": [
            "Imports Successful\n"
          ]
        }
      ]
    },
    {
      "cell_type": "code",
      "source": [
        "def c_amod15(a, power):\n",
        "    \"\"\"Controlled multiplication by a mod 15\"\"\"\n",
        "    if a not in [2,4,7,8,11,13]:\n",
        "        raise ValueError(\"'a' must be 2,4,7,8,11 or 13\")\n",
        "    U = QuantumCircuit(4)        \n",
        "    for iteration in range(power):\n",
        "        if a in [2,13]:\n",
        "            U.swap(2,3)\n",
        "            U.swap(1,2)\n",
        "            U.swap(0,1)\n",
        "        if a in [7,8]:\n",
        "            U.swap(0,1)\n",
        "            U.swap(1,2)\n",
        "            U.swap(2,3)\n",
        "        if a in [4, 11]:\n",
        "            U.swap(1,3)\n",
        "            U.swap(0,2)\n",
        "        if a in [7,11,13]:\n",
        "            for q in range(4):\n",
        "                U.x(q)\n",
        "    U = U.to_gate()\n",
        "    U.name = \"%i^%i mod 15\" % (a, power)\n",
        "    c_U = U.control()\n",
        "    return c_U\n",
        "    "
      ],
      "metadata": {
        "id": "k5UyWJyHvucb"
      },
      "execution_count": null,
      "outputs": []
    },
    {
      "cell_type": "code",
      "source": [
        "# Specify variables\n",
        "n_count = 8  # number of counting qubits\n",
        "a = 7"
      ],
      "metadata": {
        "id": "XeFcFek_v1CU"
      },
      "execution_count": null,
      "outputs": []
    },
    {
      "cell_type": "code",
      "source": [
        "def qft_dagger(n):\n",
        "    \"\"\"n-qubit QFTdagger the first n qubits in circ\"\"\"\n",
        "    qc = QuantumCircuit(n)\n",
        "    # Don't forget the Swaps!\n",
        "    for qubit in range(n//2):\n",
        "        qc.swap(qubit, n-qubit-1)\n",
        "    for j in range(n):\n",
        "        for m in range(j):\n",
        "            qc.cp(-np.pi/float(2**(j-m)), m, j)\n",
        "        qc.h(j)\n",
        "    qc.name = \"QFT†\"\n",
        "    return qc"
      ],
      "metadata": {
        "id": "qKHJ0gNbxqi6"
      },
      "execution_count": null,
      "outputs": []
    },
    {
      "cell_type": "code",
      "source": [
        "# Create QuantumCircuit with n_count counting qubits\n",
        "# plus 4 qubits for U to act on\n",
        "qc = QuantumCircuit(n_count + 4, n_count)\n",
        "\n",
        "# Initialize counting qubits\n",
        "# in state |+>\n",
        "for q in range(n_count):\n",
        "    qc.h(q)\n",
        "    \n",
        "# And auxiliary register in state |1>\n",
        "qc.x(n_count)\n",
        "\n",
        "# Do controlled-U operations\n",
        "for q in range(n_count):\n",
        "    qc.append(c_amod15(a, 2**q), \n",
        "             [q] + [i+n_count for i in range(4)])\n",
        "\n",
        "# Do inverse-QFT\n",
        "qc.append(qft_dagger(n_count), range(n_count))\n",
        "\n",
        "# Measure circuit\n",
        "qc.measure(range(n_count), range(n_count))\n",
        "qc.draw(fold=-1)  # -1 means 'do not fold' "
      ],
      "metadata": {
        "colab": {
          "base_uri": "https://localhost:8080/",
          "height": 433
        },
        "id": "SzXqelSQxse-",
        "outputId": "23d0bd09-1e9b-4b99-f93f-d5c47759ac65"
      },
      "execution_count": null,
      "outputs": [
        {
          "output_type": "execute_result",
          "data": {
            "text/plain": [
              "      ┌───┐                                                                                                                             ┌───────┐┌─┐                     \n",
              " q_0: ┤ H ├───────■─────────────────────────────────────────────────────────────────────────────────────────────────────────────────────┤0      ├┤M├─────────────────────\n",
              "      ├───┤       │                                                                                                                     │       │└╥┘┌─┐                  \n",
              " q_1: ┤ H ├───────┼──────────────■──────────────────────────────────────────────────────────────────────────────────────────────────────┤1      ├─╫─┤M├──────────────────\n",
              "      ├───┤       │              │                                                                                                      │       │ ║ └╥┘┌─┐               \n",
              " q_2: ┤ H ├───────┼──────────────┼──────────────■───────────────────────────────────────────────────────────────────────────────────────┤2      ├─╫──╫─┤M├───────────────\n",
              "      ├───┤       │              │              │                                                                                       │       │ ║  ║ └╥┘┌─┐            \n",
              " q_3: ┤ H ├───────┼──────────────┼──────────────┼──────────────■────────────────────────────────────────────────────────────────────────┤3      ├─╫──╫──╫─┤M├────────────\n",
              "      ├───┤       │              │              │              │                                                                        │  QFT† │ ║  ║  ║ └╥┘┌─┐         \n",
              " q_4: ┤ H ├───────┼──────────────┼──────────────┼──────────────┼──────────────■─────────────────────────────────────────────────────────┤4      ├─╫──╫──╫──╫─┤M├─────────\n",
              "      ├───┤       │              │              │              │              │                                                         │       │ ║  ║  ║  ║ └╥┘┌─┐      \n",
              " q_5: ┤ H ├───────┼──────────────┼──────────────┼──────────────┼──────────────┼───────────────■─────────────────────────────────────────┤5      ├─╫──╫──╫──╫──╫─┤M├──────\n",
              "      ├───┤       │              │              │              │              │               │                                         │       │ ║  ║  ║  ║  ║ └╥┘┌─┐   \n",
              " q_6: ┤ H ├───────┼──────────────┼──────────────┼──────────────┼──────────────┼───────────────┼───────────────■─────────────────────────┤6      ├─╫──╫──╫──╫──╫──╫─┤M├───\n",
              "      ├───┤       │              │              │              │              │               │               │                         │       │ ║  ║  ║  ║  ║  ║ └╥┘┌─┐\n",
              " q_7: ┤ H ├───────┼──────────────┼──────────────┼──────────────┼──────────────┼───────────────┼───────────────┼────────────────■────────┤7      ├─╫──╫──╫──╫──╫──╫──╫─┤M├\n",
              "      ├───┤┌──────┴──────┐┌──────┴──────┐┌──────┴──────┐┌──────┴──────┐┌──────┴───────┐┌──────┴───────┐┌──────┴───────┐┌───────┴───────┐└───────┘ ║  ║  ║  ║  ║  ║  ║ └╥┘\n",
              " q_8: ┤ X ├┤0            ├┤0            ├┤0            ├┤0            ├┤0             ├┤0             ├┤0             ├┤0              ├──────────╫──╫──╫──╫──╫──╫──╫──╫─\n",
              "      └───┘│             ││             ││             ││             ││              ││              ││              ││               │          ║  ║  ║  ║  ║  ║  ║  ║ \n",
              " q_9: ─────┤1            ├┤1            ├┤1            ├┤1            ├┤1             ├┤1             ├┤1             ├┤1              ├──────────╫──╫──╫──╫──╫──╫──╫──╫─\n",
              "           │  7^1 mod 15 ││  7^2 mod 15 ││  7^4 mod 15 ││  7^8 mod 15 ││  7^16 mod 15 ││  7^32 mod 15 ││  7^64 mod 15 ││  7^128 mod 15 │          ║  ║  ║  ║  ║  ║  ║  ║ \n",
              "q_10: ─────┤2            ├┤2            ├┤2            ├┤2            ├┤2             ├┤2             ├┤2             ├┤2              ├──────────╫──╫──╫──╫──╫──╫──╫──╫─\n",
              "           │             ││             ││             ││             ││              ││              ││              ││               │          ║  ║  ║  ║  ║  ║  ║  ║ \n",
              "q_11: ─────┤3            ├┤3            ├┤3            ├┤3            ├┤3             ├┤3             ├┤3             ├┤3              ├──────────╫──╫──╫──╫──╫──╫──╫──╫─\n",
              "           └─────────────┘└─────────────┘└─────────────┘└─────────────┘└──────────────┘└──────────────┘└──────────────┘└───────────────┘          ║  ║  ║  ║  ║  ║  ║  ║ \n",
              " c: 8/════════════════════════════════════════════════════════════════════════════════════════════════════════════════════════════════════════════╩══╩══╩══╩══╩══╩══╩══╩═\n",
              "                                                                                                                                                  0  1  2  3  4  5  6  7 "
            ],
            "text/html": [
              "<pre style=\"word-wrap: normal;white-space: pre;background: #fff0;line-height: 1.1;font-family: &quot;Courier New&quot;,Courier,monospace\">      ┌───┐                                                                                                                             ┌───────┐┌─┐                     \n",
              " q_0: ┤ H ├───────■─────────────────────────────────────────────────────────────────────────────────────────────────────────────────────┤0      ├┤M├─────────────────────\n",
              "      ├───┤       │                                                                                                                     │       │└╥┘┌─┐                  \n",
              " q_1: ┤ H ├───────┼──────────────■──────────────────────────────────────────────────────────────────────────────────────────────────────┤1      ├─╫─┤M├──────────────────\n",
              "      ├───┤       │              │                                                                                                      │       │ ║ └╥┘┌─┐               \n",
              " q_2: ┤ H ├───────┼──────────────┼──────────────■───────────────────────────────────────────────────────────────────────────────────────┤2      ├─╫──╫─┤M├───────────────\n",
              "      ├───┤       │              │              │                                                                                       │       │ ║  ║ └╥┘┌─┐            \n",
              " q_3: ┤ H ├───────┼──────────────┼──────────────┼──────────────■────────────────────────────────────────────────────────────────────────┤3      ├─╫──╫──╫─┤M├────────────\n",
              "      ├───┤       │              │              │              │                                                                        │  QFT† │ ║  ║  ║ └╥┘┌─┐         \n",
              " q_4: ┤ H ├───────┼──────────────┼──────────────┼──────────────┼──────────────■─────────────────────────────────────────────────────────┤4      ├─╫──╫──╫──╫─┤M├─────────\n",
              "      ├───┤       │              │              │              │              │                                                         │       │ ║  ║  ║  ║ └╥┘┌─┐      \n",
              " q_5: ┤ H ├───────┼──────────────┼──────────────┼──────────────┼──────────────┼───────────────■─────────────────────────────────────────┤5      ├─╫──╫──╫──╫──╫─┤M├──────\n",
              "      ├───┤       │              │              │              │              │               │                                         │       │ ║  ║  ║  ║  ║ └╥┘┌─┐   \n",
              " q_6: ┤ H ├───────┼──────────────┼──────────────┼──────────────┼──────────────┼───────────────┼───────────────■─────────────────────────┤6      ├─╫──╫──╫──╫──╫──╫─┤M├───\n",
              "      ├───┤       │              │              │              │              │               │               │                         │       │ ║  ║  ║  ║  ║  ║ └╥┘┌─┐\n",
              " q_7: ┤ H ├───────┼──────────────┼──────────────┼──────────────┼──────────────┼───────────────┼───────────────┼────────────────■────────┤7      ├─╫──╫──╫──╫──╫──╫──╫─┤M├\n",
              "      ├───┤┌──────┴──────┐┌──────┴──────┐┌──────┴──────┐┌──────┴──────┐┌──────┴───────┐┌──────┴───────┐┌──────┴───────┐┌───────┴───────┐└───────┘ ║  ║  ║  ║  ║  ║  ║ └╥┘\n",
              " q_8: ┤ X ├┤0            ├┤0            ├┤0            ├┤0            ├┤0             ├┤0             ├┤0             ├┤0              ├──────────╫──╫──╫──╫──╫──╫──╫──╫─\n",
              "      └───┘│             ││             ││             ││             ││              ││              ││              ││               │          ║  ║  ║  ║  ║  ║  ║  ║ \n",
              " q_9: ─────┤1            ├┤1            ├┤1            ├┤1            ├┤1             ├┤1             ├┤1             ├┤1              ├──────────╫──╫──╫──╫──╫──╫──╫──╫─\n",
              "           │  7^1 mod 15 ││  7^2 mod 15 ││  7^4 mod 15 ││  7^8 mod 15 ││  7^16 mod 15 ││  7^32 mod 15 ││  7^64 mod 15 ││  7^128 mod 15 │          ║  ║  ║  ║  ║  ║  ║  ║ \n",
              "q_10: ─────┤2            ├┤2            ├┤2            ├┤2            ├┤2             ├┤2             ├┤2             ├┤2              ├──────────╫──╫──╫──╫──╫──╫──╫──╫─\n",
              "           │             ││             ││             ││             ││              ││              ││              ││               │          ║  ║  ║  ║  ║  ║  ║  ║ \n",
              "q_11: ─────┤3            ├┤3            ├┤3            ├┤3            ├┤3             ├┤3             ├┤3             ├┤3              ├──────────╫──╫──╫──╫──╫──╫──╫──╫─\n",
              "           └─────────────┘└─────────────┘└─────────────┘└─────────────┘└──────────────┘└──────────────┘└──────────────┘└───────────────┘          ║  ║  ║  ║  ║  ║  ║  ║ \n",
              " c: 8/════════════════════════════════════════════════════════════════════════════════════════════════════════════════════════════════════════════╩══╩══╩══╩══╩══╩══╩══╩═\n",
              "                                                                                                                                                  0  1  2  3  4  5  6  7 </pre>"
            ]
          },
          "metadata": {},
          "execution_count": 6
        }
      ]
    },
    {
      "cell_type": "code",
      "source": [
        "aer_sim = Aer.get_backend('aer_simulator')\n",
        "t_qc = transpile(qc, aer_sim)\n",
        "qobj = assemble(t_qc)\n",
        "results = aer_sim.run(qobj).result()\n",
        "counts = results.get_counts()\n",
        "plot_histogram(counts)"
      ],
      "metadata": {
        "colab": {
          "base_uri": "https://localhost:8080/",
          "height": 381
        },
        "id": "kBL2MOGCxwJL",
        "outputId": "fcbda8c2-d77e-4598-e384-f8caf4ed6b2f"
      },
      "execution_count": null,
      "outputs": [
        {
          "output_type": "execute_result",
          "data": {
            "text/plain": [
              "<Figure size 504x360 with 1 Axes>"
            ],
            "image/png": "[encoded data removed]"
          },
          "metadata": {},
          "execution_count": 7
        }
      ]
    },
    {
      "cell_type": "code",
      "source": [
        "rows, measured_phases = [], []\n",
        "for output in counts:\n",
        "    decimal = int(output, 2)  # Convert (base 2) string to decimal\n",
        "    phase = decimal/(2**n_count)  # Find corresponding eigenvalue\n",
        "    measured_phases.append(phase)\n",
        "    # Add these values to the rows in our table:\n",
        "    rows.append([f\"{output}(bin) = {decimal:>3}(dec)\", \n",
        "                 f\"{decimal}/{2**n_count} = {phase:.2f}\"])\n",
        "# Print the rows in a table\n",
        "headers=[\"Register Output\", \"Phase\"]\n",
        "df = pd.DataFrame(rows, columns=headers)\n",
        "print(df)"
      ],
      "metadata": {
        "colab": {
          "base_uri": "https://localhost:8080/"
        },
        "id": "SQt8BxfCx6WN",
        "outputId": "ff440206-6388-4787-eed7-58548cb0f42f"
      },
      "execution_count": null,
      "outputs": [
        {
          "output_type": "stream",
          "name": "stdout",
          "text": [
            "            Register Output           Phase\n",
            "0  11000000(bin) = 192(dec)  192/256 = 0.75\n",
            "1  00000000(bin) =   0(dec)    0/256 = 0.00\n",
            "2  10000000(bin) = 128(dec)  128/256 = 0.50\n",
            "3  01000000(bin) =  64(dec)   64/256 = 0.25\n"
          ]
        }
      ]
    },
    {
      "cell_type": "code",
      "source": [
        "Fraction(0.666)"
      ],
      "metadata": {
        "colab": {
          "base_uri": "https://localhost:8080/"
        },
        "id": "s8AW7mMOyBZr",
        "outputId": "b032c4e7-1d93-4ed1-ae43-9d74ae0676b4"
      },
      "execution_count": null,
      "outputs": [
        {
          "output_type": "execute_result",
          "data": {
            "text/plain": [
              "Fraction(5998794703657501, 9007199254740992)"
            ]
          },
          "metadata": {},
          "execution_count": 9
        }
      ]
    },
    {
      "cell_type": "code",
      "source": [
        "# Get fraction that most closely resembles 0.666\n",
        "# with denominator < 15\n",
        "Fraction(0.666).limit_denominator(15)"
      ],
      "metadata": {
        "colab": {
          "base_uri": "https://localhost:8080/"
        },
        "id": "hEYHN0QzyIym",
        "outputId": "c4b06498-73e3-48ee-d38c-6afd5791c727"
      },
      "execution_count": null,
      "outputs": [
        {
          "output_type": "execute_result",
          "data": {
            "text/plain": [
              "Fraction(2, 3)"
            ]
          },
          "metadata": {},
          "execution_count": 10
        }
      ]
    },
    {
      "cell_type": "code",
      "source": [
        "rows = []\n",
        "for phase in measured_phases:\n",
        "    frac = Fraction(phase).limit_denominator(15)\n",
        "    rows.append([phase, f\"{frac.numerator}/{frac.denominator}\", frac.denominator])\n",
        "# Print as a table\n",
        "headers=[\"Phase\", \"Fraction\", \"Guess for r\"]\n",
        "df = pd.DataFrame(rows, columns=headers)\n",
        "print(df)"
      ],
      "metadata": {
        "colab": {
          "base_uri": "https://localhost:8080/"
        },
        "id": "VhDb7NXUyMHl",
        "outputId": "6177cba6-29dd-470f-97aa-19c867ecdc2d"
      },
      "execution_count": null,
      "outputs": [
        {
          "output_type": "stream",
          "name": "stdout",
          "text": [
            "   Phase Fraction  Guess for r\n",
            "0   0.75      3/4            4\n",
            "1   0.00      0/1            1\n",
            "2   0.50      1/2            2\n",
            "3   0.25      1/4            4\n"
          ]
        }
      ]
    },
    {
      "cell_type": "code",
      "source": [],
      "metadata": {
        "id": "QSglyM_oyPsb"
      },
      "execution_count": null,
      "outputs": []
    },
    {
      "cell_type": "markdown",
      "source": [
        " Factoring from Period Finding \n",
        "\n",
        "```\n",
        "`# This is formatted as code`\n",
        "```\n",
        "\n"
      ],
      "metadata": {
        "id": "ltd65wrKySQi"
      }
    },
    {
      "cell_type": "code",
      "source": [
        "N = 15"
      ],
      "metadata": {
        "id": "zTlTsQRIyU3B"
      },
      "execution_count": null,
      "outputs": []
    },
    {
      "cell_type": "code",
      "source": [
        "np.random.seed(1) # This is to make sure we get reproduceable results\n",
        "a = randint(2, 15)\n",
        "print(a)"
      ],
      "metadata": {
        "colab": {
          "base_uri": "https://localhost:8080/"
        },
        "id": "x_u4aEwaylY2",
        "outputId": "d24e8b87-d048-468b-b65e-4085cf5ba59b"
      },
      "execution_count": null,
      "outputs": [
        {
          "output_type": "stream",
          "name": "stdout",
          "text": [
            "7\n"
          ]
        }
      ]
    },
    {
      "cell_type": "code",
      "source": [
        "from math import gcd # greatest common divisor\n",
        "gcd(a, N)"
      ],
      "metadata": {
        "colab": {
          "base_uri": "https://localhost:8080/"
        },
        "id": "L_3fXPvHynQP",
        "outputId": "b6a13d1f-a200-4d26-b0be-431a266c0381"
      },
      "execution_count": null,
      "outputs": [
        {
          "output_type": "execute_result",
          "data": {
            "text/plain": [
              "1"
            ]
          },
          "metadata": {},
          "execution_count": 14
        }
      ]
    },
    {
      "cell_type": "code",
      "source": [
        "def qpe_amod15(a):\n",
        "    n_count = 8\n",
        "    qc = QuantumCircuit(4+n_count, n_count)\n",
        "    for q in range(n_count):\n",
        "        qc.h(q)     # Initialize counting qubits in state |+>\n",
        "    qc.x(3+n_count) # And auxiliary register in state |1>\n",
        "    for q in range(n_count): # Do controlled-U operations\n",
        "        qc.append(c_amod15(a, 2**q), \n",
        "                 [q] + [i+n_count for i in range(4)])\n",
        "    qc.append(qft_dagger(n_count), range(n_count)) # Do inverse-QFT\n",
        "    qc.measure(range(n_count), range(n_count))\n",
        "    # Simulate Results\n",
        "    aer_sim = Aer.get_backend('aer_simulator')\n",
        "    # Setting memory=True below allows us to see a list of each sequential reading\n",
        "    t_qc = transpile(qc, aer_sim)\n",
        "    qobj = assemble(t_qc, shots=1)\n",
        "    result = aer_sim.run(qobj, memory=True).result()\n",
        "    readings = result.get_memory()\n",
        "    print(\"Register Reading: \" + readings[0])\n",
        "    phase = int(readings[0],2)/(2**n_count)\n",
        "    print(\"Corresponding Phase: %f\" % phase)\n",
        "    return phase"
      ],
      "metadata": {
        "id": "nMoxh5Ryyq_J"
      },
      "execution_count": null,
      "outputs": []
    },
    {
      "cell_type": "code",
      "source": [
        "phase = qpe_amod15(a) # Phase = s/r\n",
        "Fraction(phase).limit_denominator(15) # Denominator should (hopefully!) tell us r"
      ],
      "metadata": {
        "colab": {
          "base_uri": "https://localhost:8080/"
        },
        "id": "gFPHnksGytlO",
        "outputId": "c88a6944-9661-429d-e87a-d9f924000bd0"
      },
      "execution_count": null,
      "outputs": [
        {
          "output_type": "stream",
          "name": "stdout",
          "text": [
            "Register Reading: 11000000\n",
            "Corresponding Phase: 0.750000\n"
          ]
        },
        {
          "output_type": "execute_result",
          "data": {
            "text/plain": [
              "Fraction(3, 4)"
            ]
          },
          "metadata": {},
          "execution_count": 16
        }
      ]
    },
    {
      "cell_type": "code",
      "source": [
        "frac = Fraction(phase).limit_denominator(15)\n",
        "s, r = frac.numerator, frac.denominator\n",
        "print(r)"
      ],
      "metadata": {
        "colab": {
          "base_uri": "https://localhost:8080/"
        },
        "id": "pGP4B10KywEZ",
        "outputId": "6c9570ed-c343-4b9a-b361-2c88c8326522"
      },
      "execution_count": null,
      "outputs": [
        {
          "output_type": "stream",
          "name": "stdout",
          "text": [
            "4\n"
          ]
        }
      ]
    },
    {
      "cell_type": "code",
      "source": [
        "guesses = [gcd(a**(r//2)-1, N), gcd(a**(r//2)+1, N)]\n",
        "print(guesses)"
      ],
      "metadata": {
        "colab": {
          "base_uri": "https://localhost:8080/"
        },
        "id": "knJuMy4OyzwT",
        "outputId": "24cc4cf8-c3d4-416f-dc5f-f369fbd63faa"
      },
      "execution_count": null,
      "outputs": [
        {
          "output_type": "stream",
          "name": "stdout",
          "text": [
            "[3, 5]\n"
          ]
        }
      ]
    },
    {
      "cell_type": "code",
      "source": [
        "a = 7\n",
        "factor_found = False\n",
        "attempt = 0\n",
        "while not factor_found:\n",
        "    attempt += 1\n",
        "    print(\"\\nAttempt %i:\" % attempt)\n",
        "    phase = qpe_amod15(a) # Phase = s/r\n",
        "    frac = Fraction(phase).limit_denominator(N) # Denominator should (hopefully!) tell us r\n",
        "    r = frac.denominator\n",
        "    print(\"Result: r = %i\" % r)\n",
        "    if phase != 0:\n",
        "        # Guesses for factors are gcd(x^{r/2} ±1 , 15)\n",
        "        guesses = [gcd(a**(r//2)-1, N), gcd(a**(r//2)+1, N)]\n",
        "        print(\"Guessed Factors: %i and %i\" % (guesses[0], guesses[1]))\n",
        "        for guess in guesses:\n",
        "            if guess not in [1,N] and (N % guess) == 0: # Check to see if guess is a factor\n",
        "                print(\"*** Non-trivial factor found: %i ***\" % guess)\n",
        "                factor_found = True"
      ],
      "metadata": {
        "colab": {
          "base_uri": "https://localhost:8080/"
        },
        "id": "U4oYc5Ddy2uD",
        "outputId": "056a3e04-01cf-4f0d-c872-31fe2b31d754"
      },
      "execution_count": null,
      "outputs": [
        {
          "output_type": "stream",
          "name": "stdout",
          "text": [
            "\n",
            "Attempt 1:\n",
            "Register Reading: 01000000\n",
            "Corresponding Phase: 0.250000\n",
            "Result: r = 4\n",
            "Guessed Factors: 3 and 5\n",
            "*** Non-trivial factor found: 3 ***\n",
            "*** Non-trivial factor found: 5 ***\n"
          ]
        }
      ]
    },
    {
      "cell_type": "code",
      "source": [],
      "metadata": {
        "id": "UqrPLE9hy_e-"
      },
      "execution_count": null,
      "outputs": []
    },
    {
      "cell_type": "markdown",
      "source": [
        "USING CIRQ"
      ],
      "metadata": {
        "id": "gcljnDI6zYEU"
      }
    },
    {
      "cell_type": "markdown",
      "source": [],
      "metadata": {
        "id": "mjF48PDxzQI2"
      }
    },
    {
      "cell_type": "code",
      "source": [
        "pip install cirq"
      ],
      "metadata": {
        "colab": {
          "base_uri": "https://localhost:8080/",
          "height": 1000
        },
        "id": "lf6BS0eDzZ7c",
        "outputId": "e0bdc2a4-3e4e-44b9-c6a5-1ac79d073a24"
      },
      "execution_count": null,
      "outputs": [
        {
          "output_type": "stream",
          "name": "stdout",
          "text": [
            "Looking in indexes: https://pypi.org/simple, https://us-python.pkg.dev/colab-wheels/public/simple/\n",
            "Collecting cirq\n",
            "  Downloading cirq-1.0.0-py3-none-any.whl (7.8 kB)\n",
            "Collecting cirq-google==1.0.0\n",
            "  Downloading cirq_google-1.0.0-py3-none-any.whl (576 kB)\n",
            "\u001b[K     |████████████████████████████████| 576 kB 26.2 MB/s \n",
            "\u001b[?25hCollecting cirq-rigetti==1.0.0\n",
            "  Downloading cirq_rigetti-1.0.0-py3-none-any.whl (66 kB)\n",
            "\u001b[K     |████████████████████████████████| 66 kB 5.6 MB/s \n",
            "\u001b[?25hCollecting cirq-core==1.0.0\n",
            "  Downloading cirq_core-1.0.0-py3-none-any.whl (1.8 MB)\n",
            "\u001b[K     |████████████████████████████████| 1.8 MB 71.8 MB/s \n",
            "\u001b[?25hCollecting cirq-pasqal==1.0.0\n",
            "  Downloading cirq_pasqal-1.0.0-py3-none-any.whl (31 kB)\n",
            "Collecting cirq-web==1.0.0\n",
            "  Downloading cirq_web-1.0.0-py3-none-any.whl (594 kB)\n",
            "\u001b[K     |████████████████████████████████| 594 kB 74.6 MB/s \n",
            "\u001b[?25hCollecting cirq-ionq==1.0.0\n",
            "  Downloading cirq_ionq-1.0.0-py3-none-any.whl (57 kB)\n",
            "\u001b[K     |████████████████████████████████| 57 kB 2.5 MB/s \n",
            "\u001b[?25hCollecting cirq-aqt==1.0.0\n",
            "  Downloading cirq_aqt-1.0.0-py3-none-any.whl (27 kB)\n",
            "Requirement already satisfied: requests~=2.18 in /usr/local/lib/python3.8/dist-packages (from cirq-aqt==1.0.0->cirq) (2.23.0)\n",
            "Requirement already satisfied: sympy in /usr/local/lib/python3.8/dist-packages (from cirq-core==1.0.0->cirq) (1.7.1)\n",
            "Requirement already satisfied: tqdm in /usr/local/lib/python3.8/dist-packages (from cirq-core==1.0.0->cirq) (4.64.1)\n",
            "Requirement already satisfied: typing-extensions in /usr/local/lib/python3.8/dist-packages (from cirq-core==1.0.0->cirq) (4.1.1)\n",
            "Requirement already satisfied: scipy in /usr/local/lib/python3.8/dist-packages (from cirq-core==1.0.0->cirq) (1.7.3)\n",
            "Requirement already satisfied: networkx~=2.4 in /usr/local/lib/python3.8/dist-packages (from cirq-core==1.0.0->cirq) (2.6.3)\n",
            "Requirement already satisfied: matplotlib~=3.0 in /usr/local/lib/python3.8/dist-packages (from cirq-core==1.0.0->cirq) (3.2.2)\n",
            "Requirement already satisfied: sortedcontainers~=2.0 in /usr/local/lib/python3.8/dist-packages (from cirq-core==1.0.0->cirq) (2.4.0)\n",
            "Collecting duet~=0.2.7\n",
            "  Downloading duet-0.2.7-py3-none-any.whl (28 kB)\n",
            "Requirement already satisfied: pandas in /usr/local/lib/python3.8/dist-packages (from cirq-core==1.0.0->cirq) (1.3.5)\n",
            "Requirement already satisfied: numpy~=1.16 in /usr/local/lib/python3.8/dist-packages (from cirq-core==1.0.0->cirq) (1.21.6)\n",
            "Collecting google-api-core[grpc]<2.0.0dev,>=1.14.0\n",
            "  Downloading google_api_core-1.33.2-py3-none-any.whl (115 kB)\n",
            "\u001b[K     |████████████████████████████████| 115 kB 68.0 MB/s \n",
            "\u001b[?25hRequirement already satisfied: protobuf<4,>=3.15.0 in /usr/local/lib/python3.8/dist-packages (from cirq-google==1.0.0->cirq) (3.19.6)\n",
            "Requirement already satisfied: proto-plus>=1.20.0 in /usr/local/lib/python3.8/dist-packages (from cirq-google==1.0.0->cirq) (1.22.1)\n",
            "Collecting pyquil>=3.0.0\n",
            "  Downloading pyquil-3.3.2-py3-none-any.whl (221 kB)\n",
            "\u001b[K     |████████████████████████████████| 221 kB 66.3 MB/s \n",
            "\u001b[?25hRequirement already satisfied: googleapis-common-protos<2.0dev,>=1.56.2 in /usr/local/lib/python3.8/dist-packages (from google-api-core[grpc]<2.0.0dev,>=1.14.0->cirq-google==1.0.0->cirq) (1.57.0)\n",
            "Requirement already satisfied: google-auth<3.0dev,>=1.25.0 in /usr/local/lib/python3.8/dist-packages (from google-api-core[grpc]<2.0.0dev,>=1.14.0->cirq-google==1.0.0->cirq) (2.14.1)\n",
            "Requirement already satisfied: grpcio<2.0dev,>=1.33.2 in /usr/local/lib/python3.8/dist-packages (from google-api-core[grpc]<2.0.0dev,>=1.14.0->cirq-google==1.0.0->cirq) (1.50.0)\n",
            "Requirement already satisfied: grpcio-status<2.0dev,>=1.33.2 in /usr/local/lib/python3.8/dist-packages (from google-api-core[grpc]<2.0.0dev,>=1.14.0->cirq-google==1.0.0->cirq) (1.48.2)\n",
            "Requirement already satisfied: pyasn1-modules>=0.2.1 in /usr/local/lib/python3.8/dist-packages (from google-auth<3.0dev,>=1.25.0->google-api-core[grpc]<2.0.0dev,>=1.14.0->cirq-google==1.0.0->cirq) (0.2.8)\n",
            "Requirement already satisfied: six>=1.9.0 in /usr/local/lib/python3.8/dist-packages (from google-auth<3.0dev,>=1.25.0->google-api-core[grpc]<2.0.0dev,>=1.14.0->cirq-google==1.0.0->cirq) (1.15.0)\n",
            "Requirement already satisfied: rsa<5,>=3.1.4 in /usr/local/lib/python3.8/dist-packages (from google-auth<3.0dev,>=1.25.0->google-api-core[grpc]<2.0.0dev,>=1.14.0->cirq-google==1.0.0->cirq) (4.9)\n",
            "Requirement already satisfied: cachetools<6.0,>=2.0.0 in /usr/local/lib/python3.8/dist-packages (from google-auth<3.0dev,>=1.25.0->google-api-core[grpc]<2.0.0dev,>=1.14.0->cirq-google==1.0.0->cirq) (5.2.0)\n",
            "Requirement already satisfied: kiwisolver>=1.0.1 in /usr/local/lib/python3.8/dist-packages (from matplotlib~=3.0->cirq-core==1.0.0->cirq) (1.4.4)\n",
            "Requirement already satisfied: python-dateutil>=2.1 in /usr/local/lib/python3.8/dist-packages (from matplotlib~=3.0->cirq-core==1.0.0->cirq) (2.8.2)\n",
            "Requirement already satisfied: pyparsing!=2.0.4,!=2.1.2,!=2.1.6,>=2.0.1 in /usr/local/lib/python3.8/dist-packages (from matplotlib~=3.0->cirq-core==1.0.0->cirq) (3.0.9)\n",
            "Requirement already satisfied: cycler>=0.10 in /usr/local/lib/python3.8/dist-packages (from matplotlib~=3.0->cirq-core==1.0.0->cirq) (0.11.0)\n",
            "Requirement already satisfied: pyasn1<0.5.0,>=0.4.6 in /usr/local/lib/python3.8/dist-packages (from pyasn1-modules>=0.2.1->google-auth<3.0dev,>=1.25.0->google-api-core[grpc]<2.0.0dev,>=1.14.0->cirq-google==1.0.0->cirq) (0.4.8)\n",
            "Collecting retry<0.10.0,>=0.9.2\n",
            "  Downloading retry-0.9.2-py2.py3-none-any.whl (8.0 kB)\n",
            "Collecting lark<0.12.0,>=0.11.1\n",
            "  Downloading lark-0.11.3.tar.gz (229 kB)\n",
            "\u001b[K     |████████████████████████████████| 229 kB 63.7 MB/s \n",
            "\u001b[?25hCollecting types-python-dateutil<3.0.0,>=2.8.19\n",
            "  Downloading types_python_dateutil-2.8.19.4-py3-none-any.whl (8.2 kB)\n",
            "Collecting types-retry<0.10.0,>=0.9.9\n",
            "  Downloading types_retry-0.9.9-py3-none-any.whl (2.4 kB)\n",
            "Collecting qcs-api-client<0.22.0,>=0.21.0\n",
            "  Downloading qcs_api_client-0.21.2-py3-none-any.whl (147 kB)\n",
            "\u001b[K     |████████████████████████████████| 147 kB 64.1 MB/s \n",
            "\u001b[?25hCollecting rpcq<4.0.0,>=3.10.0\n",
            "  Downloading rpcq-3.10.0.tar.gz (44 kB)\n",
            "\u001b[K     |████████████████████████████████| 44 kB 1.8 MB/s \n",
            "\u001b[?25hCollecting attrs<21.0.0,>=20.1.0\n",
            "  Downloading attrs-20.3.0-py2.py3-none-any.whl (49 kB)\n",
            "\u001b[K     |████████████████████████████████| 49 kB 6.1 MB/s \n",
            "\u001b[?25hRequirement already satisfied: pydantic<2.0.0,>=1.7.2 in /usr/local/lib/python3.8/dist-packages (from qcs-api-client<0.22.0,>=0.21.0->pyquil>=3.0.0->cirq-rigetti==1.0.0->cirq) (1.10.2)\n",
            "Collecting rfc3339<7.0,>=6.2\n",
            "  Downloading rfc3339-6.2-py3-none-any.whl (5.5 kB)\n",
            "Requirement already satisfied: toml<0.11.0,>=0.10.2 in /usr/local/lib/python3.8/dist-packages (from qcs-api-client<0.22.0,>=0.21.0->pyquil>=3.0.0->cirq-rigetti==1.0.0->cirq) (0.10.2)\n",
            "Collecting retrying<2.0.0,>=1.3.3\n",
            "  Downloading retrying-1.3.4-py3-none-any.whl (11 kB)\n",
            "Collecting iso8601<2.0.0,>=1.0.2\n",
            "  Downloading iso8601-1.1.0-py3-none-any.whl (9.9 kB)\n",
            "Collecting PyJWT<3.0.0,>=2.4.0\n",
            "  Downloading PyJWT-2.6.0-py3-none-any.whl (20 kB)\n",
            "Collecting httpx<0.24.0,>=0.23.0\n",
            "  Downloading httpx-0.23.1-py3-none-any.whl (84 kB)\n",
            "\u001b[K     |████████████████████████████████| 84 kB 3.0 MB/s \n",
            "\u001b[?25hCollecting sniffio\n",
            "  Downloading sniffio-1.3.0-py3-none-any.whl (10 kB)\n",
            "Collecting httpcore<0.17.0,>=0.15.0\n",
            "  Downloading httpcore-0.16.2-py3-none-any.whl (68 kB)\n",
            "\u001b[K     |████████████████████████████████| 68 kB 7.9 MB/s \n",
            "\u001b[?25hCollecting rfc3986[idna2008]<2,>=1.3\n",
            "  Downloading rfc3986-1.5.0-py2.py3-none-any.whl (31 kB)\n",
            "Requirement already satisfied: certifi in /usr/local/lib/python3.8/dist-packages (from httpx<0.24.0,>=0.23.0->qcs-api-client<0.22.0,>=0.21.0->pyquil>=3.0.0->cirq-rigetti==1.0.0->cirq) (2022.9.24)\n",
            "Collecting anyio<5.0,>=3.0\n",
            "  Downloading anyio-3.6.2-py3-none-any.whl (80 kB)\n",
            "\u001b[K     |████████████████████████████████| 80 kB 9.7 MB/s \n",
            "\u001b[?25hCollecting h11<0.15,>=0.13\n",
            "  Downloading h11-0.14.0-py3-none-any.whl (58 kB)\n",
            "\u001b[K     |████████████████████████████████| 58 kB 6.5 MB/s \n",
            "\u001b[?25hRequirement already satisfied: idna>=2.8 in /usr/local/lib/python3.8/dist-packages (from anyio<5.0,>=3.0->httpcore<0.17.0,>=0.15.0->httpx<0.24.0,>=0.23.0->qcs-api-client<0.22.0,>=0.21.0->pyquil>=3.0.0->cirq-rigetti==1.0.0->cirq) (2.10)\n",
            "Requirement already satisfied: urllib3!=1.25.0,!=1.25.1,<1.26,>=1.21.1 in /usr/local/lib/python3.8/dist-packages (from requests~=2.18->cirq-aqt==1.0.0->cirq) (1.24.3)\n",
            "Requirement already satisfied: chardet<4,>=3.0.2 in /usr/local/lib/python3.8/dist-packages (from requests~=2.18->cirq-aqt==1.0.0->cirq) (3.0.4)\n",
            "Requirement already satisfied: py<2.0.0,>=1.4.26 in /usr/local/lib/python3.8/dist-packages (from retry<0.10.0,>=0.9.2->pyquil>=3.0.0->cirq-rigetti==1.0.0->cirq) (1.11.0)\n",
            "Requirement already satisfied: decorator>=3.4.2 in /usr/local/lib/python3.8/dist-packages (from retry<0.10.0,>=0.9.2->pyquil>=3.0.0->cirq-rigetti==1.0.0->cirq) (4.4.2)\n",
            "Collecting msgpack<1.0,>=0.6\n",
            "  Downloading msgpack-0.6.2.tar.gz (119 kB)\n",
            "\u001b[K     |████████████████████████████████| 119 kB 69.9 MB/s \n",
            "\u001b[?25hCollecting python-rapidjson\n",
            "  Downloading python_rapidjson-1.9-cp38-cp38-manylinux_2_17_x86_64.manylinux2014_x86_64.whl (1.6 MB)\n",
            "\u001b[K     |████████████████████████████████| 1.6 MB 80.0 MB/s \n",
            "\u001b[?25hRequirement already satisfied: pyzmq>=17 in /usr/local/lib/python3.8/dist-packages (from rpcq<4.0.0,>=3.10.0->pyquil>=3.0.0->cirq-rigetti==1.0.0->cirq) (23.2.1)\n",
            "Collecting ruamel.yaml\n",
            "  Downloading ruamel.yaml-0.17.21-py3-none-any.whl (109 kB)\n",
            "\u001b[K     |████████████████████████████████| 109 kB 75.6 MB/s \n",
            "\u001b[?25hRequirement already satisfied: pytz>=2017.3 in /usr/local/lib/python3.8/dist-packages (from pandas->cirq-core==1.0.0->cirq) (2022.6)\n",
            "Collecting ruamel.yaml.clib>=0.2.6\n",
            "  Downloading ruamel.yaml.clib-0.2.7-cp38-cp38-manylinux_2_17_x86_64.manylinux2014_x86_64.manylinux_2_24_x86_64.whl (555 kB)\n",
            "\u001b[K     |████████████████████████████████| 555 kB 55.9 MB/s \n",
            "\u001b[?25hRequirement already satisfied: mpmath>=0.19 in /usr/local/lib/python3.8/dist-packages (from sympy->cirq-core==1.0.0->cirq) (1.2.1)\n",
            "Building wheels for collected packages: lark, rpcq, msgpack\n",
            "  Building wheel for lark (setup.py) ... \u001b[?25l\u001b[?25hdone\n",
            "  Created wheel for lark: filename=lark-0.11.3-py2.py3-none-any.whl size=99647 sha256=18af89a5324c68c64140d59a8bfe4444554615d0e915b88745511991b1c976ca\n",
            "  Stored in directory: /root/.cache/pip/wheels/34/cb/6c/4df359c2a3f0a1af4cccae6392bee423bb5aff530103de3538\n",
            "  Building wheel for rpcq (setup.py) ... \u001b[?25l\u001b[?25hdone\n",
            "  Created wheel for rpcq: filename=rpcq-3.10.0-py3-none-any.whl size=45970 sha256=82393b58c6dab51dcc9acde038ff1d42ce68fb3dffe824d3884d1dfa33318295\n",
            "  Stored in directory: /root/.cache/pip/wheels/aa/b7/02/28316b5857a90af7715a47aeb9f8be4377a124f29cb5f3f8f7\n",
            "  Building wheel for msgpack (setup.py) ... \u001b[?25l\u001b[?25hdone\n",
            "  Created wheel for msgpack: filename=msgpack-0.6.2-cp38-cp38-linux_x86_64.whl size=250885 sha256=5a01d74a4603a8c4dc0e54b98ac493911ab32f701a9de8f04686a851db582a56\n",
            "  Stored in directory: /root/.cache/pip/wheels/5d/f2/04/0d19c10080b996bef17c908a6243e6e65d8da1a4094a3f604d\n",
            "Successfully built lark rpcq msgpack\n",
            "Installing collected packages: sniffio, rfc3986, h11, anyio, ruamel.yaml.clib, httpcore, ruamel.yaml, rfc3339, retrying, python-rapidjson, PyJWT, msgpack, iso8601, httpx, attrs, types-retry, types-python-dateutil, rpcq, retry, qcs-api-client, lark, google-api-core, duet, pyquil, cirq-core, cirq-web, cirq-rigetti, cirq-pasqal, cirq-ionq, cirq-google, cirq-aqt, cirq\n",
            "  Attempting uninstall: msgpack\n",
            "    Found existing installation: msgpack 1.0.4\n",
            "    Uninstalling msgpack-1.0.4:\n",
            "      Successfully uninstalled msgpack-1.0.4\n",
            "  Attempting uninstall: attrs\n",
            "    Found existing installation: attrs 22.1.0\n",
            "    Uninstalling attrs-22.1.0:\n",
            "      Successfully uninstalled attrs-22.1.0\n",
            "  Attempting uninstall: google-api-core\n",
            "    Found existing installation: google-api-core 2.8.2\n",
            "    Uninstalling google-api-core-2.8.2:\n",
            "      Successfully uninstalled google-api-core-2.8.2\n",
            "Successfully installed PyJWT-2.6.0 anyio-3.6.2 attrs-20.3.0 cirq-1.0.0 cirq-aqt-1.0.0 cirq-core-1.0.0 cirq-google-1.0.0 cirq-ionq-1.0.0 cirq-pasqal-1.0.0 cirq-rigetti-1.0.0 cirq-web-1.0.0 duet-0.2.7 google-api-core-1.33.2 h11-0.14.0 httpcore-0.16.2 httpx-0.23.1 iso8601-1.1.0 lark-0.11.3 msgpack-0.6.2 pyquil-3.3.2 python-rapidjson-1.9 qcs-api-client-0.21.2 retry-0.9.2 retrying-1.3.4 rfc3339-6.2 rfc3986-1.5.0 rpcq-3.10.0 ruamel.yaml-0.17.21 ruamel.yaml.clib-0.2.7 sniffio-1.3.0 types-python-dateutil-2.8.19.4 types-retry-0.9.9\n"
          ]
        },
        {
          "output_type": "display_data",
          "data": {
            "application/vnd.colab-display-data+json": {
              "pip_warning": {
                "packages": [
                  "attr",
                  "google"
                ]
              }
            }
          },
          "metadata": {}
        }
      ]
    },
    {
      "cell_type": "code",
      "source": [],
      "metadata": {
        "id": "Z6OEZdIsze-n"
      },
      "execution_count": null,
      "outputs": []
    },
    {
      "cell_type": "markdown",
      "source": [
        "CLASSICAL PART "
      ],
      "metadata": {
        "id": "Qrf4izzCH1vd"
      }
    },
    {
      "cell_type": "code",
      "source": [
        "import math\n",
        "import random\n",
        "import sys\n",
        "from fractions import Fraction\n",
        "from builtins import input\n",
        "\n",
        "def shor(N, attempts = 1):\n",
        "    \n",
        "    # build compilation engine list\n",
        "    rule_set = DecompositionRuleSet(modules=[projectq.libs.math,\n",
        "                                             projectq.setups.decompositions])\n",
        "    compilerengines = [AutoReplacer(rule_set),\n",
        "                       InstructionFilter(high_level_gates),\n",
        "                       TagRemover(),\n",
        "                       LocalOptimizer(3),\n",
        "                       AutoReplacer(rule_set),\n",
        "                       TagRemover(),\n",
        "                       LocalOptimizer(3)]\n",
        "\n",
        "    # make the compiler and run the circuit on the simulator backend\n",
        "    eng = MainEngine(Simulator(), compilerengines)\n",
        "    \n",
        "    for attempt in range(attempts):\n",
        "        print(\"-----------------------------------\")\n",
        "        print(\"\\nAttempt #\" + str(attempt))\n",
        "        \n",
        "        x = random.randint(0, N)\n",
        "        print(\"Random x between 0 and N-1 --> \", str(x))\n",
        "        \n",
        "        '''If the GCD is not 1, x is a nontrivial factor of N, so we're done'''\n",
        "        if (math.gcd(x, N) != 1):\n",
        "            print(\"\\nFactors found classically, re-attempt...\")\n",
        "            continue\n",
        "        \n",
        "        '''Otherwise it means that x and N are coprime\n",
        "        Here the quantum part starts: Shor's algorithm tries to find r, the period of x^a mod n, where n is \n",
        "        the number to be factored and x is an integer coprime to n.\n",
        "        It is important to underline the r  is the smallest positive integer such that x^r = 1 mod N\n",
        "        '''\n",
        "        r = find_period(eng, N, x, verbose=False)\n",
        "        \n",
        "        '''If r is odd or if x^r/2 = -1 (mod N), choose another x\n",
        "        EXPLANATION: we already know that x^r/2 is NOT congruent to 1 (mod N), otherwise the order of x would be r/2,\n",
        "        instead of r. So we have to check only that x^r/2 is NOT congruent to -1 (mod N)\n",
        "        '''\n",
        "        if ((r % 2 != 0) or (pow(x, int(r/2), N) == -1)): \n",
        "            print(\"r is odd or x^r/2 = -1 (mod N), re-attempt...\")\n",
        "            continue\n",
        "            \n",
        "        print(\"\\nPeriod found: \" + str(r))\n",
        "        \n",
        "        p = math.gcd(x**int(r / 2) + 1, N)\n",
        "        q = math.gcd(x**int(r / 2) - 1, N)\n",
        "        \n",
        "        if ((not p * q == N) and p * q > 1 and int(1. * N / (p * q)) * p * q == N):\n",
        "            p, q = p * q, int(N / (p * q))\n",
        "        if p * q == N and p > 1 and q > 1:\n",
        "            print(\"\\nFactors found: {} * {} = {}.\".format(p, q, N))\n",
        "            break\n",
        "        else:\n",
        "            print(\"\\nBad luck: Found {} and {}\".format(p, q))"
      ],
      "metadata": {
        "id": "ce-Yfkdo1HVb"
      },
      "execution_count": null,
      "outputs": []
    },
    {
      "cell_type": "code",
      "source": [
        "pip install projectq"
      ],
      "metadata": {
        "colab": {
          "base_uri": "https://localhost:8080/"
        },
        "id": "18X_ht4l1blo",
        "outputId": "69c85904-4512-44a9-cc72-95a31bee2431"
      },
      "execution_count": null,
      "outputs": [
        {
          "output_type": "stream",
          "name": "stdout",
          "text": [
            "Looking in indexes: https://pypi.org/simple, https://us-python.pkg.dev/colab-wheels/public/simple/\n",
            "Collecting projectq\n",
            "  Downloading projectq-0.8.0.tar.gz (433 kB)\n",
            "\u001b[K     |████████████████████████████████| 433 kB 33.6 MB/s \n",
            "\u001b[?25h  Installing build dependencies ... \u001b[?25l\u001b[?25hdone\n",
            "  Getting requirements to build wheel ... \u001b[?25l\u001b[?25hdone\n",
            "    Preparing wheel metadata ... \u001b[?25l\u001b[?25hdone\n",
            "\u001b[33m  WARNING: Generating metadata for package projectq produced metadata for project name unknown. Fix your #egg=projectq fragments.\u001b[0m\n",
            "\u001b[33mWARNING: Discarding https://files.pythonhosted.org/packages/30/88/48c8347cadf6afb7f329e7c06d30880159e2a50b6e8a643c7667c26ffaf0/projectq-0.8.0.tar.gz#sha256=0bcd242afabe947ac4737dffab1de62628b84125ee6ccb3ec23bd4f1d082ec60 (from https://pypi.org/simple/projectq/) (requires-python:>=3.7). Requested unknown from https://files.pythonhosted.org/packages/30/88/48c8347cadf6afb7f329e7c06d30880159e2a50b6e8a643c7667c26ffaf0/projectq-0.8.0.tar.gz#sha256=0bcd242afabe947ac4737dffab1de62628b84125ee6ccb3ec23bd4f1d082ec60 has inconsistent name: filename has 'projectq', but metadata has 'UNKNOWN'\u001b[0m\n",
            "  Downloading projectq-0.7.3.tar.gz (419 kB)\n",
            "\u001b[K     |████████████████████████████████| 419 kB 61.4 MB/s \n",
            "\u001b[?25h  Installing build dependencies ... \u001b[?25l\u001b[?25hdone\n",
            "  Getting requirements to build wheel ... \u001b[?25l\u001b[?25hdone\n",
            "    Preparing wheel metadata ... \u001b[?25l\u001b[?25hdone\n",
            "Requirement already satisfied: requests in /usr/local/lib/python3.8/dist-packages (from projectq) (2.23.0)\n",
            "Requirement already satisfied: scipy in /usr/local/lib/python3.8/dist-packages (from projectq) (1.7.3)\n",
            "Requirement already satisfied: matplotlib>=2.2.3 in /usr/local/lib/python3.8/dist-packages (from projectq) (3.2.2)\n",
            "Requirement already satisfied: numpy in /usr/local/lib/python3.8/dist-packages (from projectq) (1.21.6)\n",
            "Requirement already satisfied: networkx>=2 in /usr/local/lib/python3.8/dist-packages (from projectq) (2.6.3)\n",
            "Requirement already satisfied: kiwisolver>=1.0.1 in /usr/local/lib/python3.8/dist-packages (from matplotlib>=2.2.3->projectq) (1.4.4)\n",
            "Requirement already satisfied: cycler>=0.10 in /usr/local/lib/python3.8/dist-packages (from matplotlib>=2.2.3->projectq) (0.11.0)\n",
            "Requirement already satisfied: pyparsing!=2.0.4,!=2.1.2,!=2.1.6,>=2.0.1 in /usr/local/lib/python3.8/dist-packages (from matplotlib>=2.2.3->projectq) (3.0.9)\n",
            "Requirement already satisfied: python-dateutil>=2.1 in /usr/local/lib/python3.8/dist-packages (from matplotlib>=2.2.3->projectq) (2.8.2)\n",
            "Requirement already satisfied: six>=1.5 in /usr/local/lib/python3.8/dist-packages (from python-dateutil>=2.1->matplotlib>=2.2.3->projectq) (1.15.0)\n",
            "Requirement already satisfied: urllib3!=1.25.0,!=1.25.1,<1.26,>=1.21.1 in /usr/local/lib/python3.8/dist-packages (from requests->projectq) (1.24.3)\n",
            "Requirement already satisfied: chardet<4,>=3.0.2 in /usr/local/lib/python3.8/dist-packages (from requests->projectq) (3.0.4)\n",
            "Requirement already satisfied: idna<3,>=2.5 in /usr/local/lib/python3.8/dist-packages (from requests->projectq) (2.10)\n",
            "Requirement already satisfied: certifi>=2017.4.17 in /usr/local/lib/python3.8/dist-packages (from requests->projectq) (2022.9.24)\n",
            "Building wheels for collected packages: projectq\n",
            "  Building wheel for projectq (PEP 517) ... \u001b[?25l\u001b[?25hdone\n",
            "  Created wheel for projectq: filename=projectq-0.7.3-cp38-cp38-linux_x86_64.whl size=1818728 sha256=c4773e71d5d6fd84116e46292792b811af7b49b93f285ad7958bbbaada92a1fc\n",
            "  Stored in directory: /root/.cache/pip/wheels/11/e6/3b/3b07762c059ac79e89afebf4c6470a685376759d9b542546cc\n",
            "Successfully built projectq\n",
            "Installing collected packages: projectq\n",
            "Successfully installed projectq-0.7.3\n"
          ]
        }
      ]
    },
    {
      "cell_type": "code",
      "source": [
        "import projectq.libs.math\n",
        "import projectq.setups.decompositions\n",
        "from projectq.backends import Simulator, ResourceCounter\n",
        "from projectq.cengines import (AutoReplacer, DecompositionRuleSet,\n",
        "                               InstructionFilter, LocalOptimizer,\n",
        "                               MainEngine, TagRemover)\n",
        "from projectq.libs.math import (AddConstant, AddConstantModN,\n",
        "                                MultiplyByConstantModN)\n",
        "from projectq.meta import Control\n",
        "from projectq.ops import (All, BasicMathGate, get_inverse, H, Measure, QFT, R,\n",
        "                          Swap, X)"
      ],
      "metadata": {
        "id": "OcOS3HslIIm4"
      },
      "execution_count": null,
      "outputs": []
    },
    {
      "cell_type": "code",
      "source": [
        "'''As said in ProjectQ webpage --> \"Simulating Shor s algorithm at the level of single-qubits gates and CNOTs already takes\n",
        "quite a big of time for larger numbers than 15.\"\n",
        "Returning TRUE allows to use the emulation feature, which does not decompose the modular arithmetic to low-level gates.'''\n",
        "def high_level_gates(eng, cmd):\n",
        "    return True\n",
        "def find_period(eng, N, a, verbose=False):\n",
        "    \n",
        "    n = int(math.ceil(math.log(N, 2))) # log2(N)\n",
        "\n",
        "    x = eng.allocate_qureg(n)\n",
        "\n",
        "    '''Pauli-X gate: acts on a single qubit. It is the quantum equivalent of the NOT gate for classical computers'''\n",
        "    X | x[0]\n",
        "\n",
        "    measurements = [0] * (2 * n)  # will hold the 2n measurement results\n",
        "\n",
        "    ctrl_qubit = eng.allocate_qubit()\n",
        "\n",
        "    for k in range(2 * n):\n",
        "        '''Compute a^x mod N conditioned on a control qubit ctrl_qubit in a uniform superposition of 0 and 1'''\n",
        "        current_a = pow(a, 1 << (2 * n - 1 - k), N) # << is binary left shift, so we are computing a^(2^(2n-1-k)) mod N\n",
        "        # one iteration of 1-qubit QPE (Quantum Phase Estimation)\n",
        "        H | ctrl_qubit\n",
        "        with Control(eng, ctrl_qubit):\n",
        "            MultiplyByConstantModN(current_a, N) | x\n",
        "\n",
        "        # perform semi-classical inverse QFT --> Rotations conditioned on previous outcomes\n",
        "        for i in range(k):\n",
        "            if measurements[i]:\n",
        "                R(-math.pi/(1 << (k - i))) | ctrl_qubit\n",
        "        \n",
        "        # final Hadamard of the inverse QFT\n",
        "        H | ctrl_qubit\n",
        "\n",
        "        # and measure\n",
        "        Measure | ctrl_qubit\n",
        "        eng.flush() # flush all gates and execute measurements\n",
        "        measurements[k] = int(ctrl_qubit)\n",
        "        if measurements[k]:\n",
        "            X | ctrl_qubit # reset\n",
        "\n",
        "        if verbose:\n",
        "            print(\"\\033[95m{}\\033[0m\".format(measurements[k]), end=\"\")\n",
        "            sys.stdout.flush()\n",
        "\n",
        "    All(Measure) | x # shortcut (instance of) projectq.ops.Tensor\n",
        "    # turn the measured values into a number in [0,1)\n",
        "    y = sum([(measurements[2 * n - 1 - i]*1. / (1 << (i + 1)))\n",
        "             for i in range(2 * n)])\n",
        "\n",
        "    # continued fraction expansion to get denominator (the period)\n",
        "    r = Fraction(y).limit_denominator(N-1).denominator\n",
        "\n",
        "    # return the (potential) period\n",
        "    return r"
      ],
      "metadata": {
        "id": "mAk69u59IssW"
      },
      "execution_count": null,
      "outputs": []
    },
    {
      "cell_type": "code",
      "source": [
        "shor(15, 7)\n"
      ],
      "metadata": {
        "colab": {
          "base_uri": "https://localhost:8080/"
        },
        "id": "Hsva3jgTIwXH",
        "outputId": "2626eacd-f13e-4ecf-8084-af960e6fb410"
      },
      "execution_count": null,
      "outputs": [
        {
          "output_type": "stream",
          "name": "stdout",
          "text": [
            "-----------------------------------\n",
            "\n",
            "Attempt #0\n",
            "Random x between 0 and N-1 -->  10\n",
            "\n",
            "Factors found classically, re-attempt...\n",
            "-----------------------------------\n",
            "\n",
            "Attempt #1\n",
            "Random x between 0 and N-1 -->  7\n",
            "\n",
            "Period found: 4\n",
            "\n",
            "Factors found: 5 * 3 = 15.\n"
          ]
        }
      ]
    },
    {
      "cell_type": "code",
      "source": [],
      "metadata": {
        "id": "O7NwiG5fIyU-"
      },
      "execution_count": null,
      "outputs": []
    }
  ]
}